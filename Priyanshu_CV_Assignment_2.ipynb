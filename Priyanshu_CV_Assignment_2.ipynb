{
  "cells": [
    {
      "cell_type": "markdown",
      "metadata": {
        "id": "KXnzcKFFKs5S"
      },
      "source": [
        "# **Assignment 2**\n",
        "## **Convolutional Neural Networks (CNNS) for Image Classification**\n",
        "\n",
        "In this assignment, we explore the capabilities of a popular deep learning architectures — Convolutional Neural Networks (CNNs) — by training them on various datasets and comparing their performance. While ANNs serve as a versatile model for a range of tasks, CNNs are specifically designed for handling spatial data, making them particularly effective for image classification problems. By evaluating these models, we aim to highlight their respective strengths, limitations, and suitability for different types of data, providing insights into their real-world applications."
      ]
    },
    {
      "cell_type": "markdown",
      "metadata": {
        "id": "sdk-N_2hKs5i"
      },
      "source": [
        "<style>\n",
        "blue {\n",
        "  color: skyblue;\n",
        "}\n",
        "\n",
        "red {\n",
        "  color: red;\n",
        "}\n",
        "\n",
        "green {\n",
        "  color: lightgreen;\n",
        "}\n",
        "</style>\n",
        "### **Step - 1**\n",
        "This block imports essential libraries needed for building and training a Convolutional Neural Network (CNN) with PyTorch, including data loading, transformations, and metrics for evaluation.\n",
        "1) <blue>**torch**</blue>: The core PyTorch library, essential for all operations involving tensors, model creation, and training.\n",
        "2) <blue>**torch.nn**</blue>: Contains modules to define neural network architectures.\n",
        "3) <blue>**torch.optim**</blue>: Provides optimization algorithms like <green>**SGD (Stochastic Gradient Descent)**</green>, used during model training.\n",
        "4) <blue>**torchvision.transforms**</blue>: A module for applying various image transformations, such as <green>**normalization**</green> or <green>**random cropping**</green>.\n",
        "5) <blue>**DataLoader**</blue>: Used to efficiently load data in batches, critical for training deep learning models.\n",
        "6) <blue>**sklearn.metrics**</blue>: Includes metrics to evaluate model performance, such as <green>**accuracy**</green> and <green>**precision**</green>.\n",
        "7) <blue>**seaborn/matplotlib**</blue>: Libraries for <green>**visualization**</green>, typically used to visualize model performance metrics.\n"
      ]
    },
    {
      "cell_type": "code",
      "execution_count": 5,
      "metadata": {
        "id": "x2iuKTjqKs5l"
      },
      "outputs": [],
      "source": [
        "# Import necessary libraries\n",
        "import numpy as np\n",
        "import torch\n",
        "import torch.nn as nn\n",
        "import torch.optim as optim\n",
        "import torchvision\n",
        "import torchvision.transforms as transforms\n",
        "from torch.utils.data import DataLoader\n",
        "from sklearn.metrics import accuracy_score, precision_score, recall_score, f1_score, confusion_matrix\n",
        "import seaborn as sns\n",
        "import matplotlib.pyplot as plt"
      ]
    },
    {
      "cell_type": "markdown",
      "metadata": {
        "id": "0fA3mUffKs5p"
      },
      "source": [
        "<style>\n",
        "blue {\n",
        "  color: skyblue;\n",
        "}\n",
        "\n",
        "red {\n",
        "  color: red;\n",
        "}\n",
        "\n",
        "green {\n",
        "  color: lightgreen;\n",
        "}\n",
        "</style>\n",
        "### **Step - 2**\n",
        "This block configures the device (CPU or GPU) and applies data transformations to the images (conversion to tensors and normalization).\n",
        "1) <blue>**torch.device**</blue>: Chooses the <green>**device**</green> to run computations on. If a <green>**GPU**</green> is available, the model will run on it; otherwise, it defaults to the CPU.\n",
        "2) <blue>**transforms.Compose**</blue>: Combines multiple transformations to apply <green>**sequentially**</green> to the data.\n",
        "3) <blue>**transforms.ToTensor()**</blue>: Converts the image from a <green>**PIL Image**</green> (or numpy array) to a PyTorch tensor.\n",
        "4) <blue>**transforms.Normalize()**</blue>: Normalizes the pixel values of the image. Each <green>**channel (R, G, B)**</green> is normalized with a <blue>**mean**</blue> of <green>**0.5**</green> and a <blue>**standard deviation**</blue> of <green>**0.5**</green>, scaling the values to the range [-1, 1]."
      ]
    },
    {
      "cell_type": "code",
      "execution_count": 6,
      "metadata": {
        "id": "ZT-d5ht_Ks5q"
      },
      "outputs": [],
      "source": [
        "# Set device (GPU if available, else CPU)\n",
        "device = torch.device('cuda' if torch.cuda.is_available() else 'cpu')\n",
        "\n",
        "transform = transforms.Compose([\n",
        "    transforms.ToTensor(),\n",
        "    transforms.Normalize((0.5, 0.5, 0.5), (0.5, 0.5, 0.5))  # Normalize the dataset\n",
        "])"
      ]
    },
    {
      "cell_type": "markdown",
      "metadata": {
        "id": "iPu9JOXOKs5t"
      },
      "source": [
        "<style>\n",
        "blue {\n",
        "  color: skyblue;\n",
        "}\n",
        "\n",
        "red {\n",
        "  color: red;\n",
        "}\n",
        "\n",
        "green {\n",
        "  color: lightgreen;\n",
        "}\n",
        "</style>\n",
        "### **Step - 3**\n",
        "This block is meant to load the CIFAR-10 dataset, though the actual dataset loading is marked as a TODO. It sets up data loaders for both the training and testing datasets.\n",
        "1) <blue>**train_dataset/test_dataset**</blue>: These will eventually contain the training and testing datasets. The <blue>**torchvision.datasets.CIFAR10**</blue> class will likely be used here.\n",
        "2) <blue>**train_loader**</blue>: Loads the training dataset in <blue>**batches**</blue> of <green>**64**</green> images and <green>**shuffles**</green> them to ensure randomness during training.\n",
        "3) <blue>**test_loader**</blue>: Loads the test dataset in <blue>**batches**</blue> of <green>**64**</green> images but <green>**does not shuffle**</green> them since testing doesn't require randomization.\n",
        "\n",
        "Note: Replace the placeholders **\"None\"** with the appropriate code to download the training and testing dataset.\n"
      ]
    },
    {
      "cell_type": "code",
      "source": [
        "from torchvision.datasets import CIFAR10"
      ],
      "metadata": {
        "id": "41Yk1ofvT70s"
      },
      "execution_count": 1,
      "outputs": []
    },
    {
      "cell_type": "code",
      "execution_count": 38,
      "metadata": {
        "id": "VVbR6hIyKs5w"
      },
      "outputs": [],
      "source": [
        "train_dataset = CIFAR10(root='data',train=True,download=True,transform=transform)\n",
        "test_dataset = CIFAR10(root='data',train=False,download=True,transform=transform)\n",
        "\n",
        "train_loader = DataLoader(dataset=train_dataset, batch_size=64, shuffle=True)\n",
        "test_loader = DataLoader(dataset=test_dataset, batch_size=64, shuffle=False)"
      ]
    },
    {
      "cell_type": "markdown",
      "metadata": {
        "id": "mD8QOcmOKs5y"
      },
      "source": [
        "<style>\n",
        "blue {\n",
        "  color: skyblue;\n",
        "}\n",
        "\n",
        "red {\n",
        "  color: red;\n",
        "}\n",
        "\n",
        "green {\n",
        "  color: lightgreen;\n",
        "}\n",
        "</style>\n",
        "\n",
        "### **Step - 4**\n",
        "1) This code defines a simple <green>**feedforward artificial neural network (ANN)**</green> for classification.\n",
        "2) The model has three fully connected layers <blue>**(fc1, fc2, fc3)**</blue>, and the final layer outputs predictions for <green>**10 classes** </green>.\n",
        "3) The <green>**forward pass**</green> describes how the input data flows through the network\n",
        "4) The input image is first <green>**flattened**</green>.\n",
        "5) It passes through fully connected layers with <blue>**ReLU activation function**</blue>.\n",
        "\n",
        "Note: Replace the placeholders **\"None\"** with the appropriate numbers of units and activation functions in each layer."
      ]
    },
    {
      "cell_type": "code",
      "source": [
        "from google.colab.patches import cv2_imshow"
      ],
      "metadata": {
        "id": "tHPyG1UCVEGg"
      },
      "execution_count": 39,
      "outputs": []
    },
    {
      "cell_type": "code",
      "execution_count": 43,
      "metadata": {
        "id": "E54RPwV8Ks50"
      },
      "outputs": [],
      "source": [
        "class ANN(nn.Module):\n",
        "    def __init__(self):\n",
        "        super(ANN, self).__init__()\n",
        "        self.fc1 = nn.Linear(32*32*3, 500)\n",
        "        self.fc2 = nn.Linear(500, 100)\n",
        "        self.fc3 = nn.Linear(100, 10)\n",
        "        self.relu = nn.ReLU()\n",
        "    def forward(self, x):\n",
        "        x = x.view(-1, 32*32*3)\n",
        "        x = self.relu(self.fc1(x))\n",
        "        x = self.relu(self.fc2(x))\n",
        "        x = self.fc3(x)\n",
        "        return x"
      ]
    },
    {
      "cell_type": "markdown",
      "metadata": {
        "id": "RR6cFEx8Ks52"
      },
      "source": [
        "<style>\n",
        "blue {\n",
        "  color: skyblue;\n",
        "}\n",
        "\n",
        "red {\n",
        "  color: red;\n",
        "}\n",
        "\n",
        "green {\n",
        "  color: lightgreen;\n",
        "}\n",
        "</style>\n",
        "\n",
        "### **Step - 5**\n",
        "1) The <blue>**ANN model**</blue> is instantiated and moved to the <green>**selected device (CPU or GPU)**</green>.\n",
        "2) The loss function is set to <blue>**CrossEntropyLoss**</blue>, which is suitable for <green>**multi-class classification**</green> problems like in our case of CIFAR-10.\n",
        "3) The optimizer is <blue>**Adam**</blue>, with a <blue>**learning rate**</blue> of <green>**0.001**</green>, used to adjust the model parameters during training based on gradients computed from the loss."
      ]
    },
    {
      "cell_type": "code",
      "execution_count": 44,
      "metadata": {
        "id": "-g1UHuSYKs53"
      },
      "outputs": [],
      "source": [
        "model_ann = ANN().to(device)\n",
        "criterion = nn.CrossEntropyLoss()\n",
        "optimizer = optim.Adam(model_ann.parameters(), lr=0.001)"
      ]
    },
    {
      "cell_type": "markdown",
      "metadata": {
        "id": "cdHUohymKs55"
      },
      "source": [
        "<style>\n",
        "blue {\n",
        "  color: skyblue;\n",
        "}\n",
        "\n",
        "red {\n",
        "  color: red;\n",
        "}\n",
        "\n",
        "green {\n",
        "  color: lightgreen;\n",
        "}\n",
        "</style>\n",
        "\n",
        "### **Step - 6**\n",
        "This code trains the neural network over a specified number of epochs (num_epochs).\n",
        "For each batch of images and labels, the following steps are performed:\n",
        "1) <blue>**Data Movement**</blue>: Images and labels are moved to the <green>**device (CPU or GPU)**</green>.\n",
        "2) <blue>**Forward Pass**</blue>: Images pass through the network to compute the <green>**output predictions**</green>.\n",
        "3) <blue>**Loss Calculation**</blue>: The loss between the predictions and true labels is computed and added to <blue>**ls_losses**</blue> for tracking.\n",
        "4) <blue>**Backpropagation and Optimization**</blue>: Gradients are calculated using backpropagation, and the optimizer <green>**updates the model parameters**</green> based on these gradients.\n",
        "\n",
        "Every 100 batches, the loss is printed to monitor training progress."
      ]
    },
    {
      "cell_type": "code",
      "execution_count": 46,
      "metadata": {
        "id": "QOvLNvZBKs56",
        "colab": {
          "base_uri": "https://localhost:8080/"
        },
        "outputId": "ab14b87d-77cc-4ae1-9e03-2f918516439a"
      },
      "outputs": [
        {
          "output_type": "stream",
          "name": "stdout",
          "text": [
            "Epoch [1/10], Step [100/782], Loss: 0.9977\n",
            "Epoch [1/10], Step [200/782], Loss: 1.1922\n",
            "Epoch [1/10], Step [300/782], Loss: 1.2334\n",
            "Epoch [1/10], Step [400/782], Loss: 1.2688\n",
            "Epoch [1/10], Step [500/782], Loss: 1.0042\n",
            "Epoch [1/10], Step [600/782], Loss: 1.1304\n",
            "Epoch [1/10], Step [700/782], Loss: 0.9702\n",
            "Epoch [2/10], Step [100/782], Loss: 0.8363\n",
            "Epoch [2/10], Step [200/782], Loss: 1.1386\n",
            "Epoch [2/10], Step [300/782], Loss: 1.0194\n",
            "Epoch [2/10], Step [400/782], Loss: 1.3095\n",
            "Epoch [2/10], Step [500/782], Loss: 1.2562\n",
            "Epoch [2/10], Step [600/782], Loss: 0.8542\n",
            "Epoch [2/10], Step [700/782], Loss: 1.0187\n",
            "Epoch [3/10], Step [100/782], Loss: 1.0339\n",
            "Epoch [3/10], Step [200/782], Loss: 1.1434\n",
            "Epoch [3/10], Step [300/782], Loss: 0.8787\n",
            "Epoch [3/10], Step [400/782], Loss: 0.8523\n",
            "Epoch [3/10], Step [500/782], Loss: 0.7877\n",
            "Epoch [3/10], Step [600/782], Loss: 0.7860\n",
            "Epoch [3/10], Step [700/782], Loss: 1.0216\n",
            "Epoch [4/10], Step [100/782], Loss: 0.9627\n",
            "Epoch [4/10], Step [200/782], Loss: 0.8937\n",
            "Epoch [4/10], Step [300/782], Loss: 0.9383\n",
            "Epoch [4/10], Step [400/782], Loss: 0.9672\n",
            "Epoch [4/10], Step [500/782], Loss: 0.7537\n",
            "Epoch [4/10], Step [600/782], Loss: 0.7896\n",
            "Epoch [4/10], Step [700/782], Loss: 1.2206\n",
            "Epoch [5/10], Step [100/782], Loss: 0.9306\n",
            "Epoch [5/10], Step [200/782], Loss: 0.6425\n",
            "Epoch [5/10], Step [300/782], Loss: 0.8012\n",
            "Epoch [5/10], Step [400/782], Loss: 0.9542\n",
            "Epoch [5/10], Step [500/782], Loss: 1.0037\n",
            "Epoch [5/10], Step [600/782], Loss: 1.1153\n",
            "Epoch [5/10], Step [700/782], Loss: 0.9380\n",
            "Epoch [6/10], Step [100/782], Loss: 0.7494\n",
            "Epoch [6/10], Step [200/782], Loss: 0.6038\n",
            "Epoch [6/10], Step [300/782], Loss: 0.6700\n",
            "Epoch [6/10], Step [400/782], Loss: 0.6635\n",
            "Epoch [6/10], Step [500/782], Loss: 0.9156\n",
            "Epoch [6/10], Step [600/782], Loss: 0.8951\n",
            "Epoch [6/10], Step [700/782], Loss: 0.9669\n",
            "Epoch [7/10], Step [100/782], Loss: 0.9037\n",
            "Epoch [7/10], Step [200/782], Loss: 0.6160\n",
            "Epoch [7/10], Step [300/782], Loss: 0.8590\n",
            "Epoch [7/10], Step [400/782], Loss: 0.6354\n",
            "Epoch [7/10], Step [500/782], Loss: 0.6254\n",
            "Epoch [7/10], Step [600/782], Loss: 0.5552\n",
            "Epoch [7/10], Step [700/782], Loss: 0.5249\n",
            "Epoch [8/10], Step [100/782], Loss: 0.7422\n",
            "Epoch [8/10], Step [200/782], Loss: 0.8467\n",
            "Epoch [8/10], Step [300/782], Loss: 0.7158\n",
            "Epoch [8/10], Step [400/782], Loss: 0.7621\n",
            "Epoch [8/10], Step [500/782], Loss: 0.8730\n",
            "Epoch [8/10], Step [600/782], Loss: 0.7478\n",
            "Epoch [8/10], Step [700/782], Loss: 0.6183\n",
            "Epoch [9/10], Step [100/782], Loss: 0.6606\n",
            "Epoch [9/10], Step [200/782], Loss: 0.7073\n",
            "Epoch [9/10], Step [300/782], Loss: 0.4948\n",
            "Epoch [9/10], Step [400/782], Loss: 0.5871\n",
            "Epoch [9/10], Step [500/782], Loss: 0.5203\n",
            "Epoch [9/10], Step [600/782], Loss: 0.5056\n",
            "Epoch [9/10], Step [700/782], Loss: 0.7419\n",
            "Epoch [10/10], Step [100/782], Loss: 0.7397\n",
            "Epoch [10/10], Step [200/782], Loss: 0.6044\n",
            "Epoch [10/10], Step [300/782], Loss: 0.5307\n",
            "Epoch [10/10], Step [400/782], Loss: 0.5463\n",
            "Epoch [10/10], Step [500/782], Loss: 0.6276\n",
            "Epoch [10/10], Step [600/782], Loss: 0.7447\n",
            "Epoch [10/10], Step [700/782], Loss: 0.6738\n"
          ]
        }
      ],
      "source": [
        "num_epochs = 10\n",
        "ls_losses = []\n",
        "for epoch in range(num_epochs):\n",
        "    for i, (images, labels) in enumerate(train_loader):\n",
        "        images = images.to(device)\n",
        "        labels = labels.to(device)\n",
        "        outputs = model_ann(images)\n",
        "        loss = criterion(outputs,labels)\n",
        "        ls_losses.append(loss.detach().numpy())\n",
        "        optimizer.zero_grad()\n",
        "        loss.backward()\n",
        "        optimizer.step()\n",
        "        if (i+1) % 100 == 0:\n",
        "            print(f'Epoch [{epoch+1}/{num_epochs}], Step [{i+1}/{len(train_loader)}], Loss: {loss.item():.4f}')"
      ]
    },
    {
      "cell_type": "markdown",
      "metadata": {
        "id": "8oGJSpn5Ks57"
      },
      "source": [
        "<style>\n",
        "blue {\n",
        "  color: skyblue;\n",
        "}\n",
        "\n",
        "red {\n",
        "  color: red;\n",
        "}\n",
        "\n",
        "green {\n",
        "  color: lightgreen;\n",
        "}\n",
        "</style>\n",
        "\n",
        "### **Step - 7**\n",
        "1) This code plots the <blue>**training losses**</blue> that were recorded in <blue>**ls_losses**</blue> during training.\n",
        "2) The <blue>**x-axis**</blue> represents the <green>**number of samples (batches)**</green> seen during training, and the <blue>**y-axis**</blue> shows the <green>**corresponding loss**</green>.\n",
        "3) It provides a visual representation of how the <green>**model's loss decreases over time**</green>, indicating whether the training is progressing well."
      ]
    },
    {
      "cell_type": "code",
      "execution_count": 47,
      "metadata": {
        "id": "MsCwnhvtKs58",
        "colab": {
          "base_uri": "https://localhost:8080/",
          "height": 430
        },
        "outputId": "228a777a-fa8f-4cb8-f58b-b044e65e1463"
      },
      "outputs": [
        {
          "output_type": "display_data",
          "data": {
            "text/plain": [
              "<Figure size 640x480 with 1 Axes>"
            ],
            "image/png": "[encoded data removed]"
          },
          "metadata": {}
        }
      ],
      "source": [
        "# Plot Losses\n",
        "x_axis = np.arange(0, len(ls_losses), 1)\n",
        "plt.plot(x_axis, ls_losses)\n",
        "plt.xlabel = \"Sample\"\n",
        "plt.ylabel = \"Loss\""
      ]
    },
    {
      "cell_type": "markdown",
      "metadata": {
        "id": "A20nOS-6Ks58"
      },
      "source": [
        "<style>\n",
        "blue {\n",
        "  color: skyblue;\n",
        "}\n",
        "\n",
        "red {\n",
        "  color: red;\n",
        "}\n",
        "\n",
        "green {\n",
        "  color: lightgreen;\n",
        "}\n",
        "</style>\n",
        "\n",
        "### **Step - 8**\n",
        "This block evaluates the model on the test dataset.\\\n",
        "<blue>**model.eval()**</blue> sets the model to <green>**evaluation mode**</green>, disabling dropout layers and stopping the computation of gradients to save memory and speed up computations.\n",
        "For each batch of test images:\n",
        "1) <blue>**Data Movement**</blue>: Images and labels are moved to the <green>**device (CPU/GPU)**</green>.\n",
        "2) <blue>**Forward Pass**</blue>: Images pass through the network to compute <green>**predictions**</green>.\n",
        "3) <blue>**Storing Results**</blue>: Predictions and true labels are saved to <green>**calculate metrics**</green> later.\n",
        "\n",
        "This code also calculates key performance metrics to evaluate the model:\n",
        "1) <blue>**Accuracy**</blue>: Percentage of correctly classified samples.\n",
        "2) <blue>**Precision**</blue>: Proportion of true positive predictions out of all positive predictions.\n",
        "3) <blue>**Recall**</blue>: Proportion of true positives out of actual positive samples.\n",
        "4) <blue>**F1-Score**</blue>: <green>**Harmonic mean**</green> of precision and recall.\n",
        "5) The <blue>**confusion matrix**</blue> is also calculated, showing the number of correct and incorrect predictions for each class. It is visualized using a <green>**heatmap**</green>, where the <blue>**rows**</blue> represent <green>**true labels**</green>, and the <blue>**columns**</blue> represent <green>**predicted labels**</green>.\n",
        "\n",
        "Note: Replace the placeholders **\"None\"** with the appropriate code to calculate the metrics using sklearn and compute the confusion matrix."
      ]
    },
    {
      "cell_type": "code",
      "source": [
        "from sklearn.metrics import accuracy_score,precision_score,recall_score,f1_score,confusion_matrix"
      ],
      "metadata": {
        "id": "4n17GU3ZXjO9"
      },
      "execution_count": 48,
      "outputs": []
    },
    {
      "cell_type": "code",
      "execution_count": 50,
      "metadata": {
        "id": "5nFG5UohKs5_",
        "colab": {
          "base_uri": "https://localhost:8080/"
        },
        "outputId": "b7673439-bef8-4bf0-d251-ee2f693d26c1"
      },
      "outputs": [
        {
          "output_type": "stream",
          "name": "stdout",
          "text": [
            "ANN Accuracy: 0.5229\n",
            "ANN Precision: 0.5194\n",
            "ANN Recall: 0.5229\n",
            "ANN F1-Score: 0.5189\n"
          ]
        }
      ],
      "source": [
        "model_ann.eval()\n",
        "all_preds_ann = []\n",
        "all_labels_ann = []\n",
        "\n",
        "with torch.no_grad():\n",
        "    for images, labels in test_loader:\n",
        "        images = images.to(device)\n",
        "        labels = labels.to(device)\n",
        "        outputs = model_ann(images)\n",
        "        _, predicted = torch.max(outputs.data, 1)\n",
        "        all_preds_ann.extend(predicted.cpu().numpy())\n",
        "        all_labels_ann.extend(labels.cpu().numpy())\n",
        "accuracy_ann =  accuracy_score(all_labels_ann,all_preds_ann)\n",
        "precision_ann =precision_score(all_labels_ann,all_preds_ann,average='macro')\n",
        "recall_ann = recall_score(all_labels_ann,all_preds_ann,average='macro')\n",
        "f1_ann = f1_score(all_labels_ann,all_preds_ann,average='macro')\n",
        "print(f\"ANN Accuracy: {accuracy_ann:.4f}\")\n",
        "print(f\"ANN Precision: {precision_ann:.4f}\")\n",
        "print(f\"ANN Recall: {recall_ann:.4f}\")\n",
        "print(f\"ANN F1-Score: {f1_ann:.4f}\")"
      ]
    },
    {
      "cell_type": "markdown",
      "metadata": {
        "id": "Le6yLSF6Ks6A"
      },
      "source": [
        "<style>\n",
        "blue {\n",
        "  color: skyblue;\n",
        "}\n",
        "\n",
        "red {\n",
        "  color: red;\n",
        "}\n",
        "\n",
        "green {\n",
        "  color: lightgreen;\n",
        "}\n",
        "</style>\n",
        "### **Step - 9**\n",
        "This block defines a simple Convolutional Neural Network (CNN) architecture using PyTorch. The model will consist of convolutional layers, activation functions, pooling layers, and fully connected layers to classify images from the CIFAR-10 dataset.\n",
        "1) <blue>**class CNN(nn.Module)**</blue>: This defines a custom CNN class that inherits from PyTorch's nn.Module, the base class for all neural networks in PyTorch.\n",
        "2) <blue>**self.conv**</blue>: These define the two convolutional layers. The first takes an <blue>**input**</blue> with <green>**3 channels (RGB)**</green> and produces <green>**32**</green> <blue>**feature maps**</blue>. The second takes <green>**32**</green> <blue>**input channels**</blue> and produces <green>**64**</green> <blue>**feature maps**</blue>.\n",
        "3) <blue>**self.pool**</blue>: A max-pooling layer that reduces the size of the feature maps by <green>**half (downsampling)**</green>. It takes the maximum value over a <green>**2x2**</green> <blue>**grid**</blue> with a <blue>**stride**</blue> of <green>**2**</green>.\n",
        "4) <blue>**self.fc**</blue>: Fully connected layers. The first layer takes the flattened feature maps from the convolutional layers as input and <blue>**outputs**</blue> <green>**512**</green> features. The second layer maps the <green>**512**</green> <blue>**features**</blue> to <green>**10**</green> <blue>**output classes**</blue> (for the 10 CIFAR-10 categories).\n",
        "5) <blue>**forward(self, x)**</blue>: This function defines how data flows through the network. It applies the convolutional layers, pooling, and fully connected layers in sequence.\n",
        "\n",
        "Note: Replace the placeholders **\"None\"** with the appropriate code to calculate the metrics using sklearn and compute the confusion matrix."
      ]
    },
    {
      "cell_type": "code",
      "execution_count": 59,
      "metadata": {
        "id": "ZcQdhK8bKs6C"
      },
      "outputs": [],
      "source": [
        "class CNN(nn.Module):\n",
        "    def __init__(self):\n",
        "        super(CNN, self).__init__()\n",
        "        self.conv1 = nn.Conv2d(3, 32, kernel_size=3, padding=1)\n",
        "        self.pool = nn.MaxPool2d(2, 2)\n",
        "        self.conv2 = nn.Conv2d(32, 64, kernel_size=3, padding=1)\n",
        "        self.fc1 = nn.Linear(8*8*64, 100)\n",
        "        self.fc2 = nn.Linear(100, 10)\n",
        "        self.relu=nn.ReLU()\n",
        "    def forward(self, x):\n",
        "        x = self.relu(self.pool(self.conv1(x)))\n",
        "        x = self.relu(self.pool(self.conv2(x)))\n",
        "        x = x.view(-1, 8*8*64)\n",
        "        x = self.relu(self.fc1(x))\n",
        "        x = self.fc2(x)\n",
        "        return x"
      ]
    },
    {
      "cell_type": "markdown",
      "metadata": {
        "id": "7X2ZLwpHKs6D"
      },
      "source": [
        "<style>\n",
        "blue {\n",
        "  color: skyblue;\n",
        "}\n",
        "\n",
        "red {\n",
        "  color: red;\n",
        "}\n",
        "\n",
        "green {\n",
        "  color: lightgreen;\n",
        "}\n",
        "</style>\n",
        "### **Step - 10**\n",
        "This block defines the training loop for the CNN model. It will train the model over multiple epochs, compute the loss using cross-entropy, and optimize the model using an optimizer like SGD.\n",
        "1) <blue>**optimizer.zero_grad()**</blue>: <green>**Clears**</green> the <blue>**gradients**</blue> from the previous iteration to prevent accumulation.\n",
        "2) <blue>**loss.backward()**</blue>: Computes the <blue>**gradients**</blue> via <green>**backpropagation**</green>.\n",
        "3) <blue>**optimizer.step()**</blue>: Updates the model's parameters based on the <green>**computed gradients**</green>.\n",
        "4) <blue>**running_loss**</blue>: Keeps track of the <blue>**cumulative loss**</blue> for the epoch, which is divided by the <green>**number of batches**</green> to return the <blue>**average loss**</blue>.\n",
        "\n",
        "Note: Replace the placeholders **\"None\"** with the appropriate code to calculate the metrics using sklearn and compute the confusion matrix."
      ]
    },
    {
      "cell_type": "code",
      "execution_count": 61,
      "metadata": {
        "id": "ZSZcYh_CKs6F",
        "colab": {
          "base_uri": "https://localhost:8080/"
        },
        "outputId": "4494e969-6e16-4911-9443-6ba73e31a33c"
      },
      "outputs": [
        {
          "output_type": "stream",
          "name": "stdout",
          "text": [
            "Epoch [1/10], Step [100/782], Loss: 1.6461\n",
            "Epoch [1/10], Step [200/782], Loss: 1.2679\n",
            "Epoch [1/10], Step [300/782], Loss: 1.3988\n",
            "Epoch [1/10], Step [400/782], Loss: 1.2033\n",
            "Epoch [1/10], Step [500/782], Loss: 1.4077\n",
            "Epoch [1/10], Step [600/782], Loss: 1.1594\n",
            "Epoch [1/10], Step [700/782], Loss: 1.2550\n",
            "Epoch [2/10], Step [100/782], Loss: 1.0447\n",
            "Epoch [2/10], Step [200/782], Loss: 0.8159\n",
            "Epoch [2/10], Step [300/782], Loss: 0.9944\n",
            "Epoch [2/10], Step [400/782], Loss: 1.0358\n",
            "Epoch [2/10], Step [500/782], Loss: 0.8189\n",
            "Epoch [2/10], Step [600/782], Loss: 0.7342\n",
            "Epoch [2/10], Step [700/782], Loss: 0.8654\n",
            "Epoch [3/10], Step [100/782], Loss: 0.7990\n",
            "Epoch [3/10], Step [200/782], Loss: 0.8376\n",
            "Epoch [3/10], Step [300/782], Loss: 0.8040\n",
            "Epoch [3/10], Step [400/782], Loss: 0.5697\n",
            "Epoch [3/10], Step [500/782], Loss: 0.7388\n",
            "Epoch [3/10], Step [600/782], Loss: 0.5839\n",
            "Epoch [3/10], Step [700/782], Loss: 0.8360\n",
            "Epoch [4/10], Step [100/782], Loss: 0.7011\n",
            "Epoch [4/10], Step [200/782], Loss: 0.7411\n",
            "Epoch [4/10], Step [300/782], Loss: 0.6028\n",
            "Epoch [4/10], Step [400/782], Loss: 0.6556\n",
            "Epoch [4/10], Step [500/782], Loss: 0.8136\n",
            "Epoch [4/10], Step [600/782], Loss: 0.7528\n",
            "Epoch [4/10], Step [700/782], Loss: 0.5621\n",
            "Epoch [5/10], Step [100/782], Loss: 0.7742\n",
            "Epoch [5/10], Step [200/782], Loss: 0.5751\n",
            "Epoch [5/10], Step [300/782], Loss: 0.5744\n",
            "Epoch [5/10], Step [400/782], Loss: 0.4691\n",
            "Epoch [5/10], Step [500/782], Loss: 0.7467\n",
            "Epoch [5/10], Step [600/782], Loss: 0.8047\n",
            "Epoch [5/10], Step [700/782], Loss: 0.6009\n",
            "Epoch [6/10], Step [100/782], Loss: 0.5816\n",
            "Epoch [6/10], Step [200/782], Loss: 0.5982\n",
            "Epoch [6/10], Step [300/782], Loss: 0.5189\n",
            "Epoch [6/10], Step [400/782], Loss: 0.4907\n",
            "Epoch [6/10], Step [500/782], Loss: 0.6745\n",
            "Epoch [6/10], Step [600/782], Loss: 0.5745\n",
            "Epoch [6/10], Step [700/782], Loss: 0.5931\n",
            "Epoch [7/10], Step [100/782], Loss: 0.2161\n",
            "Epoch [7/10], Step [200/782], Loss: 0.4615\n",
            "Epoch [7/10], Step [300/782], Loss: 0.3854\n",
            "Epoch [7/10], Step [400/782], Loss: 0.3318\n",
            "Epoch [7/10], Step [500/782], Loss: 0.5831\n",
            "Epoch [7/10], Step [600/782], Loss: 0.5838\n",
            "Epoch [7/10], Step [700/782], Loss: 0.5463\n",
            "Epoch [8/10], Step [100/782], Loss: 0.2945\n",
            "Epoch [8/10], Step [200/782], Loss: 0.3332\n",
            "Epoch [8/10], Step [300/782], Loss: 0.2935\n",
            "Epoch [8/10], Step [400/782], Loss: 0.2499\n",
            "Epoch [8/10], Step [500/782], Loss: 0.6634\n",
            "Epoch [8/10], Step [600/782], Loss: 0.3484\n",
            "Epoch [8/10], Step [700/782], Loss: 0.2191\n",
            "Epoch [9/10], Step [100/782], Loss: 0.1841\n",
            "Epoch [9/10], Step [200/782], Loss: 0.2651\n",
            "Epoch [9/10], Step [300/782], Loss: 0.2473\n",
            "Epoch [9/10], Step [400/782], Loss: 0.2857\n",
            "Epoch [9/10], Step [500/782], Loss: 0.4328\n",
            "Epoch [9/10], Step [600/782], Loss: 0.2851\n",
            "Epoch [9/10], Step [700/782], Loss: 0.2499\n",
            "Epoch [10/10], Step [100/782], Loss: 0.1958\n",
            "Epoch [10/10], Step [200/782], Loss: 0.2348\n",
            "Epoch [10/10], Step [300/782], Loss: 0.1692\n",
            "Epoch [10/10], Step [400/782], Loss: 0.3113\n",
            "Epoch [10/10], Step [500/782], Loss: 0.2640\n",
            "Epoch [10/10], Step [600/782], Loss: 0.2469\n",
            "Epoch [10/10], Step [700/782], Loss: 0.3652\n"
          ]
        }
      ],
      "source": [
        "# Initialize the CNN model, loss function, and optimizer\n",
        "model_cnn = CNN().to(device)\n",
        "criterion = nn.CrossEntropyLoss()\n",
        "optimizer = optim.Adam(model_cnn.parameters(), lr=0.001)\n",
        "\n",
        "# Training loop\n",
        "num_epochs = 10\n",
        "ls_losses = []\n",
        "for epoch in range(num_epochs):\n",
        "    for i, (images, labels) in enumerate(train_loader):\n",
        "        images = images.to(device)\n",
        "        labels = labels.to(device)\n",
        "        outputs = model_cnn(images)\n",
        "        loss = criterion(outputs,labels)\n",
        "        ls_losses.append(loss.detach().numpy())\n",
        "        optimizer.zero_grad()\n",
        "        loss.backward()\n",
        "        optimizer.step()\n",
        "        if (i+1) % 100 == 0:\n",
        "            print(f'Epoch [{epoch+1}/{num_epochs}], Step [{i+1}/{len(train_loader)}], Loss: {loss.item():.4f}')"
      ]
    },
    {
      "cell_type": "markdown",
      "metadata": {
        "id": "MUXgekN2Ks6G"
      },
      "source": [
        "<style>\n",
        "blue {\n",
        "  color: skyblue;\n",
        "}\n",
        "\n",
        "red {\n",
        "  color: red;\n",
        "}\n",
        "\n",
        "green {\n",
        "  color: lightgreen;\n",
        "}\n",
        "</style>\n",
        "### **Step - 11**\n",
        "This code performs evaluation on the test set by moving data to the appropriate device, running the model to get predictions, and then calculating key performance metrics using the predicted and actual labels.\n",
        "1) <blue>**model_cnn.eval()**</blue>: The code begins by setting the model to <green>**evaluation mode**</green> to ensure proper inference behavior.\n",
        "2) <blue>**all_preds_cnn, all_labels_cnn**</blue>: These lists are initialized to store <green>**predicted**</green> and <green>**true labels**</green>, respectively.\n",
        "3) <blue>**torch.no_grad()**</blue>: This is used to <green>**disable gradients**</green>, save memory and speed up computations, the test set is processed in batches from test_loader, where both images and labels are moved to the correct device.\n",
        "6) After processing the test set, evaluation metrics such as <blue>**accuracy**</blue>, <blue>**precision**</blue>, <blue>**recall**</blue>, and <blue>**F1-score**</blue> are calculated.\n",
        "7) Finally, the results are printed to display the performance of the CNN model\n",
        "\n",
        "Note: Replace the placeholders **\"None\"** with the appropriate code to calculate the metrics using sklearn and compute the confusion matrix."
      ]
    },
    {
      "cell_type": "code",
      "execution_count": 64,
      "metadata": {
        "id": "5HkMOfQbKs6J",
        "colab": {
          "base_uri": "https://localhost:8080/"
        },
        "outputId": "717664b3-9b6f-4984-9077-70a9f68eccec"
      },
      "outputs": [
        {
          "output_type": "stream",
          "name": "stdout",
          "text": [
            "CNN Accuracy: 0.7155\n",
            "CNN Precision: 0.7185\n",
            "CNN Recall: 0.7155\n",
            "CNN F1-Score: 0.7142\n"
          ]
        }
      ],
      "source": [
        "model_cnn.eval()\n",
        "all_preds_cnn = []\n",
        "all_labels_cnn = []\n",
        "\n",
        "with torch.no_grad():\n",
        "    for images, labels in test_loader:\n",
        "        images = images.to(device)\n",
        "        labels = labels.to(device)\n",
        "        outputs = model_cnn(images)\n",
        "        _, predicted = torch.max(outputs.data, 1)\n",
        "        all_preds_cnn.extend(predicted.cpu().numpy())\n",
        "        all_labels_cnn.extend(labels.cpu().numpy())\n",
        "accuracy_cnn =  accuracy_score(all_labels_cnn,all_preds_cnn)\n",
        "precision_cnn =precision_score(all_labels_cnn,all_preds_cnn,average='macro')\n",
        "recall_cnn = recall_score(all_labels_cnn,all_preds_cnn,average='macro')\n",
        "f1_cnn = f1_score(all_labels_cnn,all_preds_cnn,average='macro')\n",
        "\n",
        "print(f\"CNN Accuracy: {accuracy_cnn:.4f}\")\n",
        "print(f\"CNN Precision: {precision_cnn:.4f}\")\n",
        "print(f\"CNN Recall: {recall_cnn:.4f}\")\n",
        "print(f\"CNN F1-Score: {f1_cnn:.4f}\")\n"
      ]
    },
    {
      "cell_type": "markdown",
      "metadata": {
        "id": "Otr_qj-TKs6M"
      },
      "source": [
        "<style>\n",
        "blue {\n",
        "  color: skyblue;\n",
        "}\n",
        "\n",
        "red {\n",
        "  color: red;\n",
        "}\n",
        "\n",
        "green {\n",
        "  color: lightgreen;\n",
        "}\n",
        "</style>\n",
        "### **Step - 12**\n",
        "This code block compares performance of the trained ANN and CNN models, showing which one performs better.\n",
        "1) <blue>**import pandas as pd**</blue>: The code starts by importing the <green>**Pandas library**</green>, which is used for data manipulation and creation of a comparison table.\n",
        "2) <blue>**data dictionary**</blue>: A dictionary is defined with the keys 'Model', 'Accuracy', 'Precision', 'Recall', and 'F1-Score', containing <green>**placeholders (None)**</green> for both the 'ANN' and 'CNN' models. These placeholders will later hold the actual performance metrics.\n",
        "3) <blue>**pd.DataFrame(data)**</blue>: The dictionary is converted into a <green>**Pandas DataFrame**</green>, which provides a tabular structure for easy comparison of the metrics between the two models.\n",
        "4) <blue>**print(df_comparison)**</blue>: This line prints the <green>**comparison table**</green> of ANN and CNN metrics, enabling a visual representation of their performance.\n",
        "\n",
        "Note: Replace the placeholders **\"None\"** with the appropriate code to calculate the metrics using sklearn and compute the confusion matrix."
      ]
    },
    {
      "cell_type": "code",
      "execution_count": 65,
      "metadata": {
        "id": "aF5qJjUcKs6N",
        "colab": {
          "base_uri": "https://localhost:8080/"
        },
        "outputId": "e5c134bd-eb0d-4865-94b4-76d176babbec"
      },
      "outputs": [
        {
          "output_type": "stream",
          "name": "stdout",
          "text": [
            "  Model  Accuracy  Precision  Recall  F1-Score\n",
            "0   ANN    0.5229   0.519411  0.5229  0.518929\n",
            "1   CNN    0.7155   0.718450  0.7155  0.714199\n"
          ]
        }
      ],
      "source": [
        "import pandas as pd\n",
        "data = {\n",
        "    'Model': ['ANN', 'CNN'],\n",
        "    'Accuracy': [accuracy_ann, accuracy_cnn],\n",
        "    'Precision': [precision_ann, precision_cnn],\n",
        "    'Recall': [recall_ann, recall_cnn],\n",
        "    'F1-Score': [f1_ann, f1_cnn]\n",
        "}\n",
        "df_comparison = pd.DataFrame(data)\n",
        "print(df_comparison)"
      ]
    },
    {
      "cell_type": "markdown",
      "source": [
        "### Advanced Steps (Optional for people targeting basic level)"
      ],
      "metadata": {
        "id": "IAW_O7npNUjU"
      }
    },
    {
      "cell_type": "markdown",
      "metadata": {
        "id": "4b504987"
      },
      "source": [
        "### **Step - 13 (Understanding CNN Filters)**\n",
        "This step aims to provide insight into what the convolutional filters in the CNN model have learned. By visualizing the weights of the filters in the first convolutional layer, we can get a sense of the basic features (like edges, corners, or textures) that the network is detecting in the images."
      ]
    },
    {
      "cell_type": "code",
      "source": [
        "model_cnn.conv1.weight.data.cpu().numpy()"
      ],
      "metadata": {
        "colab": {
          "base_uri": "https://localhost:8080/"
        },
        "id": "SpPPrFQ5hO3O",
        "outputId": "96fff25d-f23a-4667-a8e0-c1529d88d77e"
      },
      "execution_count": 67,
      "outputs": [
        {
          "output_type": "execute_result",
          "data": {
            "text/plain": [
              "array([[[[-1.05143465e-01,  2.86052644e-01,  7.20337182e-02],\n",
              "         [-5.95648307e-03,  3.05985719e-01, -2.50417441e-01],\n",
              "         [ 8.61137062e-02,  2.13578418e-01, -2.73047596e-01]],\n",
              "\n",
              "        [[-1.11553982e-01, -2.50878036e-02, -1.28098950e-01],\n",
              "         [-1.81439385e-01,  2.22592741e-01, -1.74374152e-02],\n",
              "         [-8.87775868e-02,  2.18736961e-01,  3.29693668e-02]],\n",
              "\n",
              "        [[ 9.49473213e-03,  5.13760820e-02, -1.00272097e-01],\n",
              "         [-1.36831865e-01,  4.50190306e-02, -1.61293354e-02],\n",
              "         [-1.09219298e-01,  4.63625453e-02, -1.17981933e-01]]],\n",
              "\n",
              "\n",
              "       [[[-6.66466057e-02,  2.66490936e-01,  1.74081326e-01],\n",
              "         [-1.36898860e-01,  1.69208124e-01,  3.19534153e-01],\n",
              "         [-1.70829907e-01, -2.68896908e-01, -6.54086247e-02]],\n",
              "\n",
              "        [[-1.41983002e-01,  2.33909458e-01,  1.53730422e-01],\n",
              "         [-1.85973629e-01, -1.57960072e-01,  3.51667739e-02],\n",
              "         [-3.17845374e-01, -1.85790315e-01,  3.70930545e-02]],\n",
              "\n",
              "        [[ 1.29988894e-01,  1.92982122e-01,  1.99759781e-01],\n",
              "         [-1.97731450e-01,  1.64466947e-02,  5.48253395e-02],\n",
              "         [-2.74303943e-01, -6.06302395e-02, -8.83270875e-02]]],\n",
              "\n",
              "\n",
              "       [[[ 1.77224964e-01, -3.33718173e-02, -2.26501510e-01],\n",
              "         [ 1.70390978e-01,  2.23128453e-01, -1.94861889e-01],\n",
              "         [ 2.22445935e-01,  2.17739746e-01,  7.44850328e-03]],\n",
              "\n",
              "        [[-1.20579064e-01,  1.50471821e-01,  1.66678652e-01],\n",
              "         [-1.79377079e-01, -5.75959720e-02, -6.32201061e-02],\n",
              "         [-1.50984704e-01,  2.97675338e-02,  5.55075333e-02]],\n",
              "\n",
              "        [[-1.33126244e-01, -1.71717592e-02,  2.82560557e-01],\n",
              "         [-1.75973490e-01, -1.79032624e-01, -6.13720380e-02],\n",
              "         [-2.54520904e-02, -1.43706486e-01,  1.10099189e-01]]],\n",
              "\n",
              "\n",
              "       [[[-9.42329690e-02, -4.42620926e-02,  1.76253706e-01],\n",
              "         [ 2.96383519e-02, -2.42364392e-01, -1.70176655e-01],\n",
              "         [ 2.13785067e-01,  2.88277596e-01, -5.47528714e-02]],\n",
              "\n",
              "        [[-1.85580347e-02, -2.42764771e-01,  3.80620241e-01],\n",
              "         [ 1.48483410e-01, -2.68882036e-01, -1.75065219e-01],\n",
              "         [ 9.87926871e-02,  2.04445556e-01, -2.48805270e-01]],\n",
              "\n",
              "        [[-1.86798722e-01, -7.74316341e-02,  1.92195594e-01],\n",
              "         [ 1.38666108e-01, -1.59374833e-01, -1.97491303e-01],\n",
              "         [ 2.66961008e-01,  2.96844065e-01, -2.30248183e-01]]],\n",
              "\n",
              "\n",
              "       [[[ 9.70571414e-02, -1.43207908e-01,  1.45992547e-01],\n",
              "         [-2.30964035e-01,  8.31884816e-02,  6.38816357e-02],\n",
              "         [-1.88819572e-01,  2.61443287e-01, -2.73806229e-02]],\n",
              "\n",
              "        [[-8.39455500e-02, -2.11776316e-01, -1.76185995e-01],\n",
              "         [-1.12375394e-01, -4.33043949e-02,  1.31306276e-01],\n",
              "         [-2.12511316e-01,  2.15320796e-01, -1.11201117e-02]],\n",
              "\n",
              "        [[-1.54883325e-01, -6.19074516e-02,  2.16675490e-01],\n",
              "         [-9.79320183e-02, -9.60897654e-02,  2.82856405e-01],\n",
              "         [ 8.60921592e-02,  4.51863296e-02,  2.29968041e-01]]],\n",
              "\n",
              "\n",
              "       [[[-3.17954898e-01, -5.86605631e-02, -5.19604571e-02],\n",
              "         [-1.05306059e-01, -2.99100369e-01, -1.46312982e-01],\n",
              "         [-2.25852877e-02, -4.82171699e-02,  2.03789752e-02]],\n",
              "\n",
              "        [[ 1.05875231e-01,  2.29088560e-01,  2.01058298e-01],\n",
              "         [ 1.54922277e-01,  2.46047229e-01,  1.85887069e-01],\n",
              "         [ 1.94035783e-01,  2.35598028e-01,  2.89439440e-01]],\n",
              "\n",
              "        [[-1.19238682e-02, -1.95820674e-01,  5.14201969e-02],\n",
              "         [-2.60850489e-01, -1.69718340e-01,  8.60600621e-02],\n",
              "         [-2.44760171e-01,  1.00127049e-01,  3.68729532e-02]]],\n",
              "\n",
              "\n",
              "       [[[-8.59917179e-02, -1.60660714e-01,  3.30536634e-01],\n",
              "         [-1.19310528e-01, -1.33333072e-01,  2.20780864e-01],\n",
              "         [-2.36526847e-01, -1.77177399e-01,  3.45958203e-01]],\n",
              "\n",
              "        [[-2.54299819e-01,  1.46357678e-02,  1.75193444e-01],\n",
              "         [-3.52530122e-01,  1.60029516e-01,  1.79272994e-01],\n",
              "         [-1.82625413e-01,  3.21991555e-03,  2.81593502e-01]],\n",
              "\n",
              "        [[-2.85385460e-01, -1.04487926e-01,  2.62222022e-01],\n",
              "         [-3.16193283e-01,  1.00463584e-01,  2.71164209e-01],\n",
              "         [-3.16241741e-01,  1.58943757e-01,  1.49630234e-01]]],\n",
              "\n",
              "\n",
              "       [[[-1.01352625e-01, -2.28871390e-01, -2.46994153e-01],\n",
              "         [ 1.04758859e-01,  2.26121888e-01,  1.29078224e-01],\n",
              "         [-4.46078740e-02,  1.36054158e-01, -2.13281319e-01]],\n",
              "\n",
              "        [[ 6.34743599e-03, -2.04330720e-02, -2.02125385e-01],\n",
              "         [ 1.02111056e-01,  1.94289550e-01,  2.39407882e-01],\n",
              "         [-3.37770581e-02, -1.89689830e-01,  9.73960832e-02]],\n",
              "\n",
              "        [[-2.58468896e-01,  5.30016311e-02, -2.22637951e-02],\n",
              "         [ 2.93328077e-01,  3.46111804e-01,  3.19004267e-01],\n",
              "         [ 4.09902148e-02, -1.57876819e-01,  1.65805265e-01]]],\n",
              "\n",
              "\n",
              "       [[[-1.90359473e-01, -5.18193468e-02, -2.82508731e-01],\n",
              "         [ 1.62441730e-01,  5.50712012e-02, -2.68764734e-01],\n",
              "         [-7.59420991e-02,  2.54795372e-01, -2.74035215e-01]],\n",
              "\n",
              "        [[-1.60948932e-01, -1.12242408e-01, -2.86221772e-01],\n",
              "         [ 2.07248792e-01,  2.86620390e-02, -1.06712207e-01],\n",
              "         [ 5.07595278e-02,  3.19433957e-01, -1.99906141e-01]],\n",
              "\n",
              "        [[-1.17216811e-01,  1.71270624e-01, -1.06494948e-01],\n",
              "         [ 3.67180891e-02,  2.45997682e-01, -7.93123469e-02],\n",
              "         [ 2.10275665e-01,  2.89707035e-01, -2.06689671e-01]]],\n",
              "\n",
              "\n",
              "       [[[-2.37934235e-02,  1.22042373e-02,  7.00393412e-03],\n",
              "         [ 2.61673957e-01,  2.77084541e-02,  1.81647316e-01],\n",
              "         [ 1.67151526e-01,  3.35351676e-01,  1.16692595e-01]],\n",
              "\n",
              "        [[-1.15048453e-01,  3.69303152e-02,  1.29029378e-01],\n",
              "         [-2.05495507e-01,  1.62585154e-02, -5.51431924e-02],\n",
              "         [-3.60345423e-01, -2.17733189e-01,  4.68625948e-02]],\n",
              "\n",
              "        [[ 1.87477574e-01, -3.03980540e-02, -1.13435686e-01],\n",
              "         [-1.02633648e-01, -6.90212324e-02, -1.45375311e-01],\n",
              "         [ 1.31341055e-01, -1.61796257e-01, -1.57420784e-01]]],\n",
              "\n",
              "\n",
              "       [[[-1.06080696e-02, -1.95960224e-01, -1.73532814e-01],\n",
              "         [-1.48336396e-01, -5.34326695e-02,  2.68605471e-01],\n",
              "         [-4.71854322e-02,  2.48781174e-01, -1.44290447e-01]],\n",
              "\n",
              "        [[ 1.25188278e-02, -8.90902877e-02,  1.74928546e-01],\n",
              "         [-2.25970313e-01,  1.32731438e-01,  9.73230302e-02],\n",
              "         [ 6.63011000e-02,  3.58138472e-01, -7.39963353e-02]],\n",
              "\n",
              "        [[ 6.61864877e-02, -1.34530589e-01, -7.11512566e-02],\n",
              "         [-1.89692959e-01, -1.17204629e-01,  7.09897503e-02],\n",
              "         [-8.04736912e-02, -1.21410806e-02,  8.36312845e-02]]],\n",
              "\n",
              "\n",
              "       [[[ 1.62641019e-01,  2.43179604e-01,  1.16448887e-01],\n",
              "         [ 2.55858570e-01,  2.93270171e-01,  1.01318419e-01],\n",
              "         [-7.43910223e-02,  7.53185824e-02, -1.13004841e-01]],\n",
              "\n",
              "        [[-6.81921616e-02, -1.40466079e-01,  8.54420364e-02],\n",
              "         [-9.30730999e-02, -8.75355750e-02,  2.36678403e-02],\n",
              "         [ 4.80900034e-02, -2.45799378e-01,  4.84501086e-02]],\n",
              "\n",
              "        [[-2.12532133e-02, -1.94231436e-01, -1.34197474e-01],\n",
              "         [-1.79147631e-01, -2.89654911e-01, -1.15478426e-01],\n",
              "         [ 2.04192087e-01,  1.43970534e-01,  9.00335014e-02]]],\n",
              "\n",
              "\n",
              "       [[[-1.13166444e-01,  3.19655463e-02, -2.86784947e-01],\n",
              "         [-5.21204347e-05,  2.63474941e-01, -1.38133094e-01],\n",
              "         [-1.67991534e-01,  2.26566762e-01, -2.18902789e-02]],\n",
              "\n",
              "        [[ 8.14256966e-02,  3.11181784e-01, -3.54231745e-01],\n",
              "         [ 1.68879312e-02,  3.61592978e-01,  2.94487877e-03],\n",
              "         [-3.78498435e-01,  3.29942256e-01, -3.31632048e-02]],\n",
              "\n",
              "        [[-1.49338037e-01,  2.07186297e-01, -5.03010908e-03],\n",
              "         [-1.14654377e-01,  3.15714180e-01, -2.03228280e-01],\n",
              "         [-2.76116401e-01,  1.89993620e-01, -1.51313096e-01]]],\n",
              "\n",
              "\n",
              "       [[[ 5.02128666e-03,  2.45700613e-01,  3.53705660e-02],\n",
              "         [-1.22349551e-02,  1.18619837e-01, -1.32678375e-01],\n",
              "         [ 8.24910924e-02,  3.96394217e-03,  3.61468345e-02]],\n",
              "\n",
              "        [[ 1.12261005e-01,  2.76062012e-01,  9.81676504e-02],\n",
              "         [ 2.94702530e-01, -1.27424628e-01, -2.13455111e-01],\n",
              "         [ 4.23193276e-02, -4.64299731e-02, -2.50419378e-01]],\n",
              "\n",
              "        [[ 1.24393590e-01,  2.28784770e-01,  4.36422974e-02],\n",
              "         [ 8.51123780e-02,  7.68082738e-02, -2.50366658e-01],\n",
              "         [-5.85586503e-02, -2.12839633e-01, -1.89242378e-01]]],\n",
              "\n",
              "\n",
              "       [[[ 4.48119432e-01,  1.96687564e-01,  2.43156552e-01],\n",
              "         [ 2.39936084e-01, -5.05262911e-02, -1.67745929e-02],\n",
              "         [-4.98130694e-02, -8.62674266e-02, -3.22270006e-01]],\n",
              "\n",
              "        [[-2.72320300e-01, -6.38578385e-02, -2.33009472e-01],\n",
              "         [ 3.63450125e-02, -3.69609669e-02, -1.57130703e-01],\n",
              "         [-2.01620698e-01, -2.12315246e-01, -1.73755363e-02]],\n",
              "\n",
              "        [[-1.84373289e-01, -3.13004330e-02,  2.49961903e-03],\n",
              "         [-3.91019396e-02,  1.29426578e-02,  2.70628989e-01],\n",
              "         [ 8.71749222e-02,  2.56354213e-01,  1.35718912e-01]]],\n",
              "\n",
              "\n",
              "       [[[ 1.73654631e-02,  1.19538881e-01,  4.26226482e-02],\n",
              "         [-2.97039211e-01, -2.27184370e-01, -2.86874533e-01],\n",
              "         [-9.87939388e-02, -4.43014093e-02, -2.09652066e-01]],\n",
              "\n",
              "        [[-1.43908292e-01,  2.31462136e-01,  1.96238622e-01],\n",
              "         [-2.12221906e-01,  8.32064375e-02,  6.55061305e-02],\n",
              "         [ 3.46741453e-02,  2.54365563e-01,  2.25995347e-01]],\n",
              "\n",
              "        [[-2.51412280e-02,  8.30870643e-02,  5.75992465e-02],\n",
              "         [ 1.82912163e-02,  1.11334421e-01, -1.94860667e-01],\n",
              "         [ 2.07509100e-02,  1.13122635e-01, -1.41235769e-01]]],\n",
              "\n",
              "\n",
              "       [[[ 2.35271811e-01, -8.96779224e-02, -2.55468279e-01],\n",
              "         [ 3.42712283e-01, -1.51089296e-01, -2.77439803e-01],\n",
              "         [ 3.10722262e-01, -1.93803996e-01, -2.69635528e-01]],\n",
              "\n",
              "        [[ 1.11907117e-01,  9.28056687e-02, -1.54120743e-01],\n",
              "         [ 3.17318767e-01,  6.64958432e-02, -3.68970037e-01],\n",
              "         [ 2.27208599e-01, -1.27005011e-01, -4.03125614e-01]],\n",
              "\n",
              "        [[ 1.33660212e-01,  2.15996936e-01, -5.18454239e-02],\n",
              "         [ 7.50951990e-02,  1.98335275e-01, -1.63667873e-01],\n",
              "         [ 3.19617182e-01,  8.69411901e-02, -2.28294045e-01]]],\n",
              "\n",
              "\n",
              "       [[[-1.05656646e-01, -2.24734023e-01, -2.74281830e-01],\n",
              "         [ 3.69820565e-01, -1.69489831e-01, -2.78063029e-01],\n",
              "         [ 3.16476971e-01,  1.86449587e-01,  2.27644473e-01]],\n",
              "\n",
              "        [[-2.35643938e-01, -2.01752633e-01, -8.56279507e-02],\n",
              "         [ 3.38072866e-01,  3.97127308e-02, -1.24789335e-01],\n",
              "         [ 5.55561930e-02,  2.02877551e-01,  1.36625841e-01]],\n",
              "\n",
              "        [[-9.22199860e-02, -2.37889498e-01,  1.01464130e-01],\n",
              "         [-5.93023971e-02, -1.98261403e-02, -2.58841425e-01],\n",
              "         [ 2.39539668e-01, -6.42543063e-02,  4.38975170e-03]]],\n",
              "\n",
              "\n",
              "       [[[-2.63791054e-01,  1.56155646e-01,  7.59479031e-02],\n",
              "         [-3.37822169e-01, -2.45069280e-01,  1.15947276e-01],\n",
              "         [-2.61711240e-01, -7.38153458e-02,  2.44427055e-01]],\n",
              "\n",
              "        [[ 1.92220777e-01,  1.39540240e-01,  1.29791170e-01],\n",
              "         [ 8.01320560e-03, -1.58421889e-01, -3.81964073e-02],\n",
              "         [ 4.05716570e-03,  1.55582458e-01, -1.39014661e-01]],\n",
              "\n",
              "        [[ 1.89129561e-01,  1.32444007e-02, -1.68540135e-01],\n",
              "         [ 2.39411041e-01,  1.08237498e-01, -2.51099199e-01],\n",
              "         [ 2.24879816e-01,  4.60240580e-02, -1.41456602e-02]]],\n",
              "\n",
              "\n",
              "       [[[ 4.00185362e-02,  1.86746225e-01,  2.87188977e-01],\n",
              "         [-1.18802525e-01,  1.02987066e-01,  1.37964725e-01],\n",
              "         [-1.44156426e-01, -9.39175300e-03,  2.81326529e-02]],\n",
              "\n",
              "        [[-5.00504151e-02,  4.12166119e-02,  7.82052949e-02],\n",
              "         [-1.68666780e-01, -2.82555614e-02,  2.39255533e-01],\n",
              "         [-1.87863261e-01, -2.51529992e-01, -1.63959354e-01]],\n",
              "\n",
              "        [[-1.72398046e-01,  1.14197850e-01, -8.79414752e-02],\n",
              "         [-1.06766969e-01, -1.69867069e-01, -8.32770988e-02],\n",
              "         [-4.95286053e-03, -2.97258683e-02,  8.89021158e-02]]],\n",
              "\n",
              "\n",
              "       [[[-1.32672429e-01,  1.44526288e-01, -6.85581639e-02],\n",
              "         [-2.36838147e-01, -1.23164363e-01, -9.44747701e-02],\n",
              "         [ 3.61652941e-01,  4.32829112e-02,  2.67951995e-01]],\n",
              "\n",
              "        [[-2.00393107e-02,  1.04979925e-01,  2.35556811e-01],\n",
              "         [-7.37505406e-02, -3.46995056e-01, -1.82668597e-01],\n",
              "         [ 1.86123893e-01, -4.47166003e-02, -2.24959645e-02]],\n",
              "\n",
              "        [[ 6.49343356e-02,  1.87879741e-01,  1.24799766e-01],\n",
              "         [-2.88443655e-01, -3.30349833e-01, -9.51860622e-02],\n",
              "         [ 2.47149885e-01,  1.19602740e-01,  1.01395115e-01]]],\n",
              "\n",
              "\n",
              "       [[[ 6.56261444e-02,  6.78751245e-02, -2.20604017e-01],\n",
              "         [-2.93799341e-01, -1.39165134e-03,  1.19285554e-01],\n",
              "         [-1.32414684e-01, -2.92747527e-01,  2.78431121e-02]],\n",
              "\n",
              "        [[ 1.72028363e-01,  1.19217969e-01,  9.36455280e-02],\n",
              "         [-8.00681487e-02,  1.96183339e-01,  2.55788714e-01],\n",
              "         [-8.47772509e-02, -8.41412842e-02, -1.69749465e-02]],\n",
              "\n",
              "        [[ 1.37009472e-01,  1.40501693e-01,  1.54999360e-01],\n",
              "         [-3.33213545e-02,  1.64480716e-01,  1.29531071e-01],\n",
              "         [-2.62081593e-01, -9.11667347e-02,  2.08453819e-01]]],\n",
              "\n",
              "\n",
              "       [[[ 2.43139908e-01,  1.59958199e-01, -1.79153815e-01],\n",
              "         [ 5.41588031e-02,  5.45203984e-02,  1.18655544e-02],\n",
              "         [-3.95667134e-03,  1.67535141e-01, -5.38916737e-02]],\n",
              "\n",
              "        [[ 6.01392835e-02, -1.32793695e-01, -5.08023910e-02],\n",
              "         [-3.08595508e-01, -3.05673361e-01,  6.31297901e-02],\n",
              "         [-1.92267857e-02, -4.94077988e-02,  2.65534490e-01]],\n",
              "\n",
              "        [[ 9.86131653e-02, -2.38038659e-01, -2.65548497e-01],\n",
              "         [-4.01672870e-02, -2.02811658e-01, -1.78291067e-01],\n",
              "         [ 1.30855232e-01,  1.92012832e-01,  1.25960290e-01]]],\n",
              "\n",
              "\n",
              "       [[[ 2.37898633e-01, -1.19962268e-01,  1.49778202e-01],\n",
              "         [ 1.32816970e-01, -1.88433453e-01,  1.24731064e-01],\n",
              "         [-2.57781863e-01, -2.10095495e-01,  1.74953595e-01]],\n",
              "\n",
              "        [[ 7.94534758e-02,  1.18146911e-01,  1.61145359e-01],\n",
              "         [ 6.83623776e-02, -5.60870804e-02,  1.05343293e-02],\n",
              "         [-1.87530756e-01, -1.74897969e-01,  4.19752188e-02]],\n",
              "\n",
              "        [[-9.00993496e-03,  4.43198234e-02, -8.59180689e-02],\n",
              "         [-5.20154946e-02,  1.27037823e-01,  2.41254702e-01],\n",
              "         [-1.62855953e-01, -1.92855611e-01, -4.22396744e-03]]],\n",
              "\n",
              "\n",
              "       [[[-2.11043268e-01,  3.37874115e-01, -1.98587049e-02],\n",
              "         [ 2.85185039e-01, -1.06482938e-01, -3.37533474e-01],\n",
              "         [ 7.75435567e-02, -2.55264819e-01,  2.26756305e-01]],\n",
              "\n",
              "        [[-2.37294555e-01,  2.21756399e-01, -1.88870296e-01],\n",
              "         [ 2.79985636e-01,  3.49658988e-02, -1.54432714e-01],\n",
              "         [ 3.92541066e-02, -2.11975262e-01,  1.98952794e-01]],\n",
              "\n",
              "        [[-7.52724558e-02,  2.43444800e-01,  1.89127531e-02],\n",
              "         [ 2.41940156e-01, -1.67396739e-01, -8.07530507e-02],\n",
              "         [-8.17200541e-02, -2.42602229e-01,  2.21188217e-01]]],\n",
              "\n",
              "\n",
              "       [[[-2.26292061e-03, -2.38702714e-01, -1.27314270e-01],\n",
              "         [-3.03099483e-01, -4.67120297e-02,  1.05205886e-01],\n",
              "         [-1.78129256e-01,  2.07765065e-02,  1.13716215e-01]],\n",
              "\n",
              "        [[-1.72381267e-01, -1.98930562e-01,  2.39935160e-01],\n",
              "         [-2.60492653e-01, -2.35230923e-01,  9.34403464e-02],\n",
              "         [-1.86075956e-01,  7.76117742e-02,  2.68944174e-01]],\n",
              "\n",
              "        [[-1.93632543e-01,  6.42632768e-02,  1.43499607e-02],\n",
              "         [-1.00874500e-02, -1.88091040e-01,  1.88912109e-01],\n",
              "         [-5.92828868e-03,  4.32357192e-02,  2.81436324e-01]]],\n",
              "\n",
              "\n",
              "       [[[-2.12985694e-01, -7.38371024e-03, -1.24612682e-01],\n",
              "         [-3.67990732e-02,  1.76048782e-02,  3.71686406e-02],\n",
              "         [-1.34869292e-01, -2.29661092e-01, -8.21672529e-02]],\n",
              "\n",
              "        [[ 1.55231938e-01,  3.15907151e-02,  3.10055852e-01],\n",
              "         [ 9.92059112e-02,  3.60292315e-01,  5.79094402e-02],\n",
              "         [ 2.92328209e-01,  2.69805312e-01,  1.76827416e-01]],\n",
              "\n",
              "        [[ 7.41055310e-02, -2.17737153e-01, -7.22881556e-02],\n",
              "         [-5.09818122e-02, -1.50516182e-01, -2.58154631e-01],\n",
              "         [-6.80912286e-02, -1.87852696e-01, -1.51562139e-01]]],\n",
              "\n",
              "\n",
              "       [[[ 1.00371435e-01, -3.75340395e-02,  3.91755924e-02],\n",
              "         [ 2.55782217e-01,  2.05768168e-01,  1.37287050e-01],\n",
              "         [ 1.14848979e-01,  2.39965647e-01,  1.79895535e-01]],\n",
              "\n",
              "        [[-6.37846515e-02, -2.29564965e-01, -1.23335138e-01],\n",
              "         [ 1.73348933e-01,  1.92056075e-01,  2.15303997e-04],\n",
              "         [-9.49209258e-02,  6.06976189e-02, -1.03938967e-01]],\n",
              "\n",
              "        [[-1.09877370e-01,  1.49234891e-01, -1.82008892e-01],\n",
              "         [-5.90657815e-02, -3.36614922e-02,  1.27456458e-02],\n",
              "         [ 1.47957295e-01,  1.11464128e-01,  2.15479005e-02]]],\n",
              "\n",
              "\n",
              "       [[[-2.25412980e-01, -1.68784365e-01, -1.06042430e-01],\n",
              "         [-2.05447569e-01, -9.14510936e-02, -2.13842630e-01],\n",
              "         [-1.15624614e-01, -9.04432163e-02, -1.13180846e-01]],\n",
              "\n",
              "        [[ 1.23923808e-01,  1.40437037e-01, -2.04306483e-01],\n",
              "         [ 1.02262087e-01, -1.66820899e-01,  9.08432156e-03],\n",
              "         [-1.26539037e-01, -5.53821679e-03,  7.64058605e-02]],\n",
              "\n",
              "        [[ 9.29551423e-02, -4.60686497e-02,  9.51531604e-02],\n",
              "         [ 6.53850809e-02,  3.04514617e-01,  2.88773775e-01],\n",
              "         [ 2.08244070e-01,  2.08102003e-01,  2.33722165e-01]]],\n",
              "\n",
              "\n",
              "       [[[ 2.27361605e-01,  3.36395383e-01,  1.38933361e-01],\n",
              "         [ 2.12291211e-01, -1.28793597e-01, -1.62728786e-01],\n",
              "         [-1.44050673e-01, -2.97646016e-01, -2.46313512e-01]],\n",
              "\n",
              "        [[ 1.72863558e-01,  4.31732178e-01, -1.04010925e-01],\n",
              "         [ 1.72809258e-01, -9.65663567e-02,  7.88681805e-02],\n",
              "         [-2.86812454e-01, -1.25831574e-01, -1.92617521e-01]],\n",
              "\n",
              "        [[-5.39234020e-02,  2.86807001e-01,  1.61590651e-01],\n",
              "         [ 2.14885309e-01,  8.86142179e-02,  9.23877880e-02],\n",
              "         [-3.05284828e-01, -2.39247188e-01, -2.07640886e-01]]],\n",
              "\n",
              "\n",
              "       [[[-8.70144218e-02,  6.47789091e-02, -6.14770316e-02],\n",
              "         [-2.04426706e-01,  1.84910148e-02,  1.23506561e-01],\n",
              "         [ 7.16051906e-02, -1.81188896e-01, -6.30287230e-02]],\n",
              "\n",
              "        [[-5.88727258e-02,  1.67289097e-02, -7.74157494e-02],\n",
              "         [-1.50517091e-01, -6.84850151e-03,  6.78342357e-02],\n",
              "         [-1.09269535e-02, -3.53532583e-02,  4.75059599e-02]],\n",
              "\n",
              "        [[-9.72161889e-02,  1.60153992e-02,  1.37232617e-01],\n",
              "         [-1.42257676e-01, -1.94002032e-01, -8.04098770e-02],\n",
              "         [-4.78538796e-02,  1.49205662e-02, -4.51819599e-02]]],\n",
              "\n",
              "\n",
              "       [[[ 3.83104026e-01, -1.50278434e-01, -3.28137189e-01],\n",
              "         [-1.70800731e-01, -3.02150279e-01,  2.25147256e-03],\n",
              "         [-1.58649638e-01,  3.25499028e-01,  8.05182680e-02]],\n",
              "\n",
              "        [[ 3.25549930e-01,  7.03078881e-02, -1.05285563e-01],\n",
              "         [-1.98286191e-01, -2.46588066e-01,  1.02809928e-02],\n",
              "         [-1.67262182e-01,  3.58648300e-01,  3.75188708e-01]],\n",
              "\n",
              "        [[ 1.69005662e-01, -2.28041321e-01, -7.17528090e-02],\n",
              "         [-5.90492822e-02, -2.84877807e-01,  4.91671916e-03],\n",
              "         [-5.24432622e-02,  1.75981119e-01,  2.00823739e-01]]]],\n",
              "      dtype=float32)"
            ]
          },
          "metadata": {},
          "execution_count": 67
        }
      ]
    },
    {
      "cell_type": "code",
      "metadata": {
        "id": "5d21965d",
        "colab": {
          "base_uri": "https://localhost:8080/",
          "height": 849
        },
        "outputId": "0e30772c-7385-4538-d311-438fd147d6ef"
      },
      "source": [
        "first_conv_layer_weights = model_cnn.conv1.weight.data.cpu().numpy()\n",
        "min_w = np.min(model_cnn.conv1.weight.data.cpu().numpy())\n",
        "max_w = np.max(model_cnn.conv1.weight.data.cpu().numpy())\n",
        "first_conv_layer_weights = (first_conv_layer_weights-min_w)/(max_w-min_w)  #\n",
        "\n",
        "num_filters = 32\n",
        "num_plots = min(num_filters, 16)\n",
        "fig, axes = plt.subplots(nrows=4, ncols=4, figsize=(10, 10))\n",
        "axes = axes.flatten()\n",
        "for i in range(num_plots):\n",
        "    filter_img = first_conv_layer_weights[i]\n",
        "    axes[i].imshow(filter_img, cmap='gray')\n",
        "    axes[i].set_title(f'Filter {i+1}')\n",
        "    axes[i].axis('off')\n",
        "\n",
        "for j in range(num_plots, len(axes)):\n",
        "    axes[j].axis('off')\n",
        "\n",
        "plt.tight_layout()\n",
        "plt.show()"
      ],
      "execution_count": 76,
      "outputs": [
        {
          "output_type": "display_data",
          "data": {
            "text/plain": [
              "<Figure size 1000x1000 with 16 Axes>"
            ],
            "image/png": "[encoded data removed]"
          },
          "metadata": {}
        }
      ]
    },
    {
      "cell_type": "markdown",
      "metadata": {
        "id": "62b0e7ca"
      },
      "source": [
        "### **Step - 14 (Data Augmentation)**\n",
        "Data augmentation is a technique used to increase the diversity of the training dataset by applying random transformations such as rotations, flips, and crops to the images. This helps to prevent overfitting and can improve the generalization ability of the model. We will apply data augmentation to the training data and retrain the CNN model to see if it improves performance."
      ]
    },
    {
      "cell_type": "code",
      "source": [
        "# Define data augmentation transformations\n",
        "train_transform_augmented = transforms.Compose([\n",
        "    transforms.RandomHorizontalFlip(),\n",
        "    transforms.RandomCrop(32, padding=4),\n",
        "    transforms.ToTensor(),\n",
        "    transforms.Normalize((0.5, 0.5, 0.5), (0.5, 0.5, 0.5))\n",
        "])\n",
        "\n",
        "# Load CIFAR-10 dataset with data augmentation\n",
        "train_dataset_augmented = torchvision.datasets.CIFAR10(root='./data', train=True,\n",
        "                                                      download=True, transform=train_transform_augmented)\n",
        "test_dataset = torchvision.datasets.CIFAR10(root='./data', train=False,\n",
        "                                       download=True, transform=transform) # Use the original transform for testing\n",
        "\n",
        "train_loader_augmented = DataLoader(dataset=train_dataset_augmented, batch_size=64, shuffle=True)\n",
        "test_loader = DataLoader(dataset=test_dataset, batch_size=64, shuffle=False)\n",
        "\n",
        "# TODO: Initialize CNN model, loss function, and optimizer\n",
        "model_cnn_augmented = CNN().to(device)  # Replace None with model initialization (e.g., CNN().to(device))\n",
        "criterion = nn.CrossEntropyLoss()  # Replace None with loss function (e.g., nn.CrossEntropyLoss())\n",
        "optimizer_augmented = torch.optim.Adam(params=model_cnn_augmented.parameters(),lr=0.001)  # Replace None with optimizer (e.g., optim.Adam(...))\n",
        "\n",
        "print(\"Training CNN with Data Augmentation...\")\n",
        "\n",
        "# TODO: Train the CNN model\n",
        "num_epochs = 5\n",
        "for epoch in range(num_epochs):\n",
        "    for i, (images, labels) in enumerate(train_loader_augmented):\n",
        "\n",
        "        images = images.to(device)\n",
        "        labels = labels.to(device)\n",
        "        outputs = model_cnn_augmented(images)\n",
        "        loss = criterion(outputs,labels)\n",
        "        # Backward pass and optimization\n",
        "        optimizer_augmented.zero_grad()\n",
        "        loss.backward()\n",
        "        optimizer_augmented.step()\n",
        "\n",
        "        if (i + 1) % 100 == 0:\n",
        "            print(f\"Epoch [{epoch+1}/{num_epochs}], Step [{i+1}/{len(train_loader_augmented)}], Loss: {loss.item():.4f}\")"
      ],
      "metadata": {
        "id": "MU-uJXJVO7hr",
        "colab": {
          "base_uri": "https://localhost:8080/"
        },
        "outputId": "3f847f8b-4464-4bb2-abb4-af37067fc1e2"
      },
      "execution_count": 77,
      "outputs": [
        {
          "output_type": "stream",
          "name": "stdout",
          "text": [
            "Training CNN with Data Augmentation...\n",
            "Epoch [1/5], Step [100/782], Loss: 1.9122\n",
            "Epoch [1/5], Step [200/782], Loss: 1.6218\n",
            "Epoch [1/5], Step [300/782], Loss: 1.5977\n",
            "Epoch [1/5], Step [400/782], Loss: 1.5294\n",
            "Epoch [1/5], Step [500/782], Loss: 1.3125\n",
            "Epoch [1/5], Step [600/782], Loss: 1.4432\n",
            "Epoch [1/5], Step [700/782], Loss: 1.2464\n",
            "Epoch [2/5], Step [100/782], Loss: 1.3566\n",
            "Epoch [2/5], Step [200/782], Loss: 1.2359\n",
            "Epoch [2/5], Step [300/782], Loss: 1.2986\n",
            "Epoch [2/5], Step [400/782], Loss: 1.3875\n",
            "Epoch [2/5], Step [500/782], Loss: 1.2094\n",
            "Epoch [2/5], Step [600/782], Loss: 1.2992\n",
            "Epoch [2/5], Step [700/782], Loss: 1.2487\n",
            "Epoch [3/5], Step [100/782], Loss: 1.2003\n",
            "Epoch [3/5], Step [200/782], Loss: 0.9306\n",
            "Epoch [3/5], Step [300/782], Loss: 0.9011\n",
            "Epoch [3/5], Step [400/782], Loss: 1.1023\n",
            "Epoch [3/5], Step [500/782], Loss: 1.1682\n",
            "Epoch [3/5], Step [600/782], Loss: 0.7903\n",
            "Epoch [3/5], Step [700/782], Loss: 0.9434\n",
            "Epoch [4/5], Step [100/782], Loss: 1.0862\n",
            "Epoch [4/5], Step [200/782], Loss: 0.8023\n",
            "Epoch [4/5], Step [300/782], Loss: 0.7995\n",
            "Epoch [4/5], Step [400/782], Loss: 1.1854\n",
            "Epoch [4/5], Step [500/782], Loss: 0.8085\n",
            "Epoch [4/5], Step [600/782], Loss: 0.9949\n",
            "Epoch [4/5], Step [700/782], Loss: 1.1777\n",
            "Epoch [5/5], Step [100/782], Loss: 0.8759\n",
            "Epoch [5/5], Step [200/782], Loss: 1.0641\n",
            "Epoch [5/5], Step [300/782], Loss: 1.0194\n",
            "Epoch [5/5], Step [400/782], Loss: 0.8911\n",
            "Epoch [5/5], Step [500/782], Loss: 0.8239\n",
            "Epoch [5/5], Step [600/782], Loss: 1.0234\n",
            "Epoch [5/5], Step [700/782], Loss: 1.0963\n"
          ]
        }
      ]
    },
    {
      "cell_type": "markdown",
      "metadata": {
        "id": "c6d1dfb5"
      },
      "source": [
        "### **Step - 15 (Visualize Incorrect Predictions)**\n",
        "Visualizing some of the images that the CNN model misclassified can provide valuable insights into the model's weaknesses and help identify areas for improvement. This step will display a few examples of images where the model's predicted label does not match the true label."
      ]
    },
    {
      "cell_type": "code",
      "metadata": {
        "id": "bcf50c4c",
        "colab": {
          "base_uri": "https://localhost:8080/",
          "height": 109
        },
        "outputId": "5210bbbc-769c-4734-c298-cff9d43e748a"
      },
      "source": [
        "model_to_evaluate = model_cnn_augmented\n",
        "model_to_evaluate.eval()\n",
        "\n",
        "\n",
        "incorrect_preds = []\n",
        "incorrect_labels = []\n",
        "incorrect_images = []\n",
        "\n",
        "with torch.no_grad():\n",
        "    for images, labels in test_loader:\n",
        "        images_cpu = images.cpu()\n",
        "        images = images.to(device)\n",
        "        labels = labels.to(device)\n",
        "        outputs = model_to_evaluate(images)\n",
        "        _, predicted = torch.max(outputs,axis=1)\n",
        "        for i in range(len(labels)):\n",
        "            if predicted[i] != labels[i]:\n",
        "                incorrect_preds.append(predicted[i].item())\n",
        "                incorrect_labels.append(labels[i].item())\n",
        "                img = images_cpu[i].numpy().transpose((1, 2, 0))\n",
        "                img = 0.5 * img + 0.5\n",
        "                img = np.clip(img, 0, 1)\n",
        "                incorrect_images.append(img)\n",
        "\n",
        "num_to_display = min(len(incorrect_images), 10)\n",
        "fig, axes = plt.subplots(nrows=1, ncols=num_to_display, figsize=(20, 4))\n",
        "\n",
        "if num_to_display > 0:\n",
        "    for i in range(num_to_display):\n",
        "        axes[i].imshow(incorrect_images[i])\n",
        "        axes[i].set_title(f'Pred: {incorrect_preds[i]}, True: {incorrect_labels[i]}')\n",
        "        axes[i].axis('off')\n",
        "    plt.tight_layout()\n",
        "    plt.show()\n",
        "else:\n",
        "    print(\"No incorrect predictions to display.\")"
      ],
      "execution_count": 78,
      "outputs": [
        {
          "output_type": "display_data",
          "data": {
            "text/plain": [
              "<Figure size 2000x400 with 10 Axes>"
            ],
            "image/png": "[encoded data removed]"
          },
          "metadata": {}
        }
      ]
    },
    {
      "cell_type": "code",
      "source": [],
      "metadata": {
        "id": "mvFfm1YKlaPN"
      },
      "execution_count": null,
      "outputs": []
    }
  ],
  "metadata": {
    "kernelspec": {
      "display_name": "Python 3",
      "language": "python",
      "name": "python3"
    },
    "language_info": {
      "codemirror_mode": {
        "name": "ipython",
        "version": 3
      },
      "file_extension": ".py",
      "mimetype": "text/x-python",
      "name": "python",
      "nbconvert_exporter": "python",
      "pygments_lexer": "ipython3",
      "version": "3.11.9"
    },
    "colab": {
      "provenance": []
    }
  },
  "nbformat": 4,
  "nbformat_minor": 0
}